{
  "nbformat": 4,
  "nbformat_minor": 0,
  "metadata": {
    "colab": {
      "provenance": []
    },
    "kernelspec": {
      "name": "python3",
      "display_name": "Python 3"
    },
    "language_info": {
      "name": "python"
    }
  },
  "cells": [
    {
      "cell_type": "code",
      "source": [
        "import numpy as np\n",
        "import matplotlib.pyplot as plt\n",
        "# Set size of figure\n",
        "plt.rcParams['figure.figsize'] = [8, 8]\n",
        "# Set size of font\n",
        "plt.rcParams['font.size'] = 10"
      ],
      "metadata": {
        "id": "FasmVZvHPgMW"
      },
      "execution_count": null,
      "outputs": []
    },
    {
      "cell_type": "markdown",
      "source": [
        "## GMM\n",
        "\n",
        "Now that we know how to sample from simple distributions like the Bernoulli and Gaussian, we shall move to sampling from a GMM. There are two steps here:\n",
        "\n",
        "- Pick a mixture $k$ from $K$ mixtures based on the categorical distribution governing it\n",
        "- Sample a point from the $k^{th}$ Gaussian"
      ],
      "metadata": {
        "id": "7A9Gri4ZP1oK"
      }
    },
    {
      "cell_type": "markdown",
      "source": [
        "## Problem-1\n",
        "\n",
        "Consider a GMM with $K = 3$. The mixture probabilities are given below. It is easier to work with zero-indexing, hence we will index our mixtures starting from $0$:\n",
        "\n",
        "$$\n",
        "\\pi_0 = 0.3\\\\\n",
        "\\pi_1 = 0.5\\\\\n",
        "\\pi_2 = 0.2\n",
        "$$\n",
        "\n",
        "Perform step-1 of the sampling process by choosing one of the three mixtures based on the above distribution. Call this value $k$. Use the cell given below for all your computation. Do not change the seed value. Enter $k$ as your answer."
      ],
      "metadata": {
        "id": "1GlVAG9-8qFY"
      }
    },
    {
      "cell_type": "code",
      "source": [
        "### RNG ###\n",
        "rng = np.random.default_rng(seed = 1001)\n",
        "### Solution ###\n"
      ],
      "metadata": {
        "id": "aQqjseA3RYkB",
        "colab": {
          "base_uri": "https://localhost:8080/"
        },
        "outputId": "a7a19caa-85b9-4491-d958-0003ea29e0a5"
      },
      "execution_count": null,
      "outputs": [
        {
          "output_type": "execute_result",
          "data": {
            "text/plain": [
              "np.int64(1)"
            ]
          },
          "metadata": {},
          "execution_count": 9
        }
      ]
    },
    {
      "cell_type": "markdown",
      "source": [
        "## Problem-2\n",
        "\n",
        "Now we move to step-2 of the sampling process. Sample a point from mixture $k$ (obtained from the previous question). The means and variances of the mixtures are as follows:\n",
        "\n",
        "$$\n",
        "\\mu_1 = -4, \\sigma_1^2 = 2\\\\\n",
        "\\mu_2 = 0, \\sigma_2^2 = 1\\\\\n",
        "\\mu_3 = 5, \\sigma_3^2 = 3\n",
        "$$\n",
        "\n",
        "\n",
        "Use the cell given below for all your computation. Enter the sampled point correct to three decimal places."
      ],
      "metadata": {
        "id": "4hd29e0n9mar"
      }
    },
    {
      "cell_type": "code",
      "source": [
        "### RNG ###\n",
        "rng = np.random.default_rng(seed = 1001)\n",
        "### Solution ###\n",
        "means = [-4, 0, 5]\n",
        "variances = [2, 1, 3]\n",
        "# k is from the previous cell's execution output\n",
        "# I will hardcode the value of k as 1, which was the output of the previous cell.\n",
        "k = 1\n",
        "sampled_point = rng.normal(loc=means[k], scale=np.sqrt(variances[k]))\n",
        "print(f\"{sampled_point:.3f}\")"
      ],
      "metadata": {
        "id": "D0TUgnKG91t2",
        "colab": {
          "base_uri": "https://localhost:8080/"
        },
        "outputId": "a5a83c1f-45d2-42df-e62f-1487e228dfa7"
      },
      "execution_count": null,
      "outputs": [
        {
          "output_type": "stream",
          "name": "stdout",
          "text": [
            "0.932\n"
          ]
        }
      ]
    },
    {
      "cell_type": "markdown",
      "source": [
        "## Problem-3\n",
        "\n",
        "Now that we have sampled one point, we are ready to do more. Sample $100,000$ points from the GMM. Generate each point step by step. Store the samples in a NumPy array `X` of shape $(100,000, )$. `X[i]` should hold the value of the $i^{th}$ point generated from the GMM.  Use the cell below for all your computation. Enter the mean of `X` as your answer correct to three decimal places."
      ],
      "metadata": {
        "id": "7FnbGy4p-jeK"
      }
    },
    {
      "cell_type": "code",
      "source": [
        "### RNG ###\n",
        "rng = np.random.default_rng(seed = 1001)\n",
        "### Solution ###\n",
        "num_samples = 100000\n",
        "probabilities = [0.3, 0.5, 0.2]\n",
        "means = [-4, 0, 5]\n",
        "variances = [2, 1, 3]\n",
        "\n",
        "X = np.zeros(num_samples)\n",
        "\n",
        "for i in range(num_samples):\n",
        "    k = rng.choice(3, p=probabilities)\n",
        "    X[i] = rng.normal(loc=means[k], scale=np.sqrt(variances[k]))\n",
        "\n",
        "print(f\"{np.mean(X):.3f}\")"
      ],
      "metadata": {
        "id": "XA8gv2jq-rTC",
        "colab": {
          "base_uri": "https://localhost:8080/"
        },
        "outputId": "912e63b3-a355-4767-f6fe-921acadfbeab"
      },
      "execution_count": null,
      "outputs": [
        {
          "output_type": "stream",
          "name": "stdout",
          "text": [
            "-0.193\n"
          ]
        }
      ]
    },
    {
      "cell_type": "markdown",
      "source": [
        "## Problem-4\n",
        "\n",
        "Plot a histogram of the dataset. Play around with the `bins` parameter of the `plt.hist` method. We will be using this dataset `X` all through the next section of the colab."
      ],
      "metadata": {
        "id": "2heXmKhI_uXb"
      }
    },
    {
      "cell_type": "code",
      "source": [
        "### Solution ###\n",
        "plt.hist(X,bins=1000)"
      ],
      "metadata": {
        "id": "lpor62HP_xPF",
        "colab": {
          "base_uri": "https://localhost:8080/",
          "height": 1000
        },
        "outputId": "2e6bf16e-43dc-4054-9669-dbca450ac8a2"
      },
      "execution_count": null,
      "outputs": [
        {
          "output_type": "execute_result",
          "data": {
            "text/plain": [
              "(array([  1.,   0.,   0.,   0.,   0.,   0.,   0.,   0.,   0.,   1.,   0.,\n",
              "          0.,   0.,   0.,   0.,   0.,   0.,   0.,   1.,   0.,   1.,   0.,\n",
              "          2.,   0.,   0.,   1.,   2.,   2.,   1.,   4.,   0.,   0.,   0.,\n",
              "          0.,   1.,   0.,   0.,   1.,   0.,   1.,   1.,   3.,   2.,   1.,\n",
              "          1.,   0.,   2.,   2.,   3.,   3.,   2.,   1.,   2.,   2.,   3.,\n",
              "          0.,   2.,   2.,   1.,   3.,   4.,   4.,   3.,   4.,   3.,   4.,\n",
              "          1.,   3.,   5.,   2.,  10.,   9.,   4.,   4.,   3.,   4.,   9.,\n",
              "          9.,   8.,   8.,   5.,   7.,   8.,  10.,   7.,   8.,   9.,  13.,\n",
              "          8.,   8.,  10.,  13.,  15.,  10.,   7.,  10.,   7.,  16.,  13.,\n",
              "         16.,  16.,  15.,  16.,  11.,  25.,  18.,  20.,  10.,  19.,  14.,\n",
              "         23.,  29.,  26.,  20.,  23.,  30.,  15.,  25.,  15.,  30.,  25.,\n",
              "         19.,  31.,  26.,  23.,  34.,  46.,  34.,  29.,  49.,  28.,  30.,\n",
              "         46.,  45.,  26.,  59.,  39.,  45.,  46.,  50.,  41.,  62.,  55.,\n",
              "         46.,  61.,  45.,  63.,  49.,  54.,  47.,  47.,  66.,  60.,  58.,\n",
              "         79.,  63.,  58.,  50.,  62.,  62.,  83.,  65.,  63.,  76.,  70.,\n",
              "         91., 103.,  80., 100.,  88.,  81.,  87.,  97.,  96.,  91.,  87.,\n",
              "         93., 101.,  85.,  93., 100., 121., 113., 118., 112., 116., 124.,\n",
              "        103., 129., 127., 125., 118., 124., 143., 118., 139., 147., 120.,\n",
              "        145., 129., 153., 133., 123., 154., 140., 148., 127., 164., 139.,\n",
              "        157., 136., 169., 164., 154., 156., 185., 139., 159., 140., 147.,\n",
              "        149., 157., 157., 148., 177., 170., 175., 176., 180., 185., 180.,\n",
              "        173., 162., 176., 148., 181., 158., 174., 181., 182., 186., 179.,\n",
              "        170., 195., 172., 185., 188., 187., 172., 183., 187., 197., 183.,\n",
              "        179., 159., 171., 185., 174., 197., 190., 186., 188., 174., 176.,\n",
              "        190., 195., 174., 177., 169., 182., 166., 190., 155., 164., 158.,\n",
              "        192., 188., 162., 173., 165., 163., 173., 183., 169., 164., 175.,\n",
              "        159., 137., 159., 159., 150., 147., 132., 157., 134., 150., 149.,\n",
              "        150., 119., 136., 132., 131., 134., 122., 142., 138., 165., 114.,\n",
              "        125., 137., 148., 121., 131., 144., 119., 112., 133., 138., 113.,\n",
              "        116., 130., 123.,  95., 108., 140., 123., 123., 107.,  95., 112.,\n",
              "        110., 123., 117., 107., 127., 130., 130., 138., 121., 133., 116.,\n",
              "        123., 118., 136., 135., 126., 125., 122., 127., 148., 112., 145.,\n",
              "        154., 120., 150., 140., 150., 138., 162., 166., 162., 167., 142.,\n",
              "        155., 183., 157., 180., 158., 187., 200., 203., 198., 180., 216.,\n",
              "        213., 202., 203., 235., 217., 224., 223., 250., 227., 231., 253.,\n",
              "        261., 252., 257., 256., 288., 305., 293., 279., 312., 309., 333.,\n",
              "        314., 299., 294., 312., 319., 348., 343., 319., 355., 340., 341.,\n",
              "        350., 351., 370., 388., 368., 333., 407., 390., 393., 400., 402.,\n",
              "        398., 412., 386., 395., 413., 426., 429., 429., 419., 418., 385.,\n",
              "        426., 448., 451., 469., 492., 397., 447., 436., 409., 423., 428.,\n",
              "        420., 458., 438., 433., 406., 428., 438., 425., 417., 424., 442.,\n",
              "        406., 384., 409., 399., 394., 423., 363., 385., 364., 384., 396.,\n",
              "        400., 369., 375., 348., 354., 365., 333., 326., 341., 349., 336.,\n",
              "        329., 316., 312., 305., 310., 304., 276., 275., 310., 261., 246.,\n",
              "        239., 210., 261., 260., 231., 254., 233., 209., 223., 216., 216.,\n",
              "        182., 192., 223., 167., 145., 180., 165., 191., 184., 159., 169.,\n",
              "        159., 148., 120., 131., 143., 153., 133., 151., 120., 122.,  97.,\n",
              "        113., 102., 102., 119.,  88., 112.,  83.,  91.,  85.,  90.,  89.,\n",
              "         93.,  96.,  84.,  70.,  74.,  67.,  81.,  73.,  63.,  60.,  56.,\n",
              "         72.,  60.,  70.,  57.,  48.,  51.,  68.,  61.,  51.,  61.,  48.,\n",
              "         61.,  48.,  46.,  42.,  53.,  52.,  43.,  57.,  62.,  50.,  65.,\n",
              "         47.,  46.,  39.,  60.,  53.,  53.,  50.,  48.,  52.,  54.,  45.,\n",
              "         58.,  38.,  50.,  49.,  55.,  52.,  59.,  50.,  49.,  71.,  51.,\n",
              "         73.,  53.,  64.,  71.,  80.,  49.,  61.,  50.,  63.,  56.,  81.,\n",
              "         59.,  64.,  57.,  53.,  70.,  67.,  73.,  60.,  86.,  67.,  75.,\n",
              "         68.,  84.,  74.,  56.,  67.,  85.,  78.,  97.,  83.,  76.,  85.,\n",
              "         65.,  66.,  85.,  70.,  69.,  82., 107.,  87.,  82.,  75.,  88.,\n",
              "         92.,  73.,  75.,  87.,  75.,  98.,  95.,  90.,  89.,  96.,  87.,\n",
              "         77.,  84.,  82., 103.,  75.,  88.,  98.,  90.,  93.,  91.,  81.,\n",
              "         95., 107.,  96.,  94.,  93.,  78.,  99., 100.,  95.,  99.,  92.,\n",
              "        128.,  86.,  92.,  95.,  98.,  88., 105., 107.,  97.,  92., 101.,\n",
              "        107.,  94., 105.,  85., 102.,  79.,  97.,  92.,  90., 105., 104.,\n",
              "         87., 107.,  99.,  89.,  78., 107., 103.,  78.,  94., 112.,  99.,\n",
              "        121., 112.,  95.,  88., 100.,  99., 106., 100.,  99., 112.,  78.,\n",
              "         99.,  98.,  88.,  84.,  81.,  83.,  84.,  78.,  75.,  91.,  87.,\n",
              "         85.,  96.,  76.,  86.,  70.,  80.,  75.,  72.,  81.,  76.,  86.,\n",
              "         72.,  72.,  81.,  78.,  68.,  67.,  94.,  82.,  75.,  59.,  83.,\n",
              "         68.,  66.,  57.,  61.,  91.,  72.,  50.,  61.,  64.,  73.,  54.,\n",
              "         63.,  47.,  51.,  69.,  63.,  63.,  59.,  57.,  61.,  65.,  55.,\n",
              "         61.,  58.,  48.,  46.,  62.,  47.,  48.,  59.,  63.,  38.,  51.,\n",
              "         37.,  40.,  48.,  42.,  49.,  41.,  34.,  37.,  46.,  47.,  41.,\n",
              "         32.,  42.,  47.,  44.,  31.,  21.,  31.,  38.,  33.,  37.,  28.,\n",
              "         32.,  27.,  29.,  28.,  31.,  32.,  31.,  24.,  19.,  38.,  23.,\n",
              "         20.,  19.,  31.,  33.,  17.,  29.,  19.,  25.,  21.,  22.,  15.,\n",
              "         31.,  23.,  13.,  19.,  17.,  13.,  23.,  22.,  16.,   9.,  13.,\n",
              "         25.,  11.,  13.,  15.,  14.,  17.,  19.,  19.,  14.,   8.,  15.,\n",
              "         15.,   7.,  20.,  12.,   9.,  17.,   7.,   6.,  13.,  10.,   9.,\n",
              "          9.,   8.,  15.,   5.,  10.,   8.,   8.,   6.,  12.,   3.,   5.,\n",
              "          7.,   7.,  12.,   5.,   8.,   6.,   7.,   3.,   5.,   6.,   6.,\n",
              "          7.,   6.,   5.,   4.,   4.,   3.,   2.,   7.,   1.,   3.,   3.,\n",
              "          7.,   1.,   3.,   2.,   5.,   2.,   2.,   6.,   5.,   3.,   3.,\n",
              "          2.,   3.,   2.,   2.,   4.,   3.,   1.,   2.,   3.,   5.,   2.,\n",
              "          1.,   0.,   1.,   2.,   3.,   1.,   0.,   2.,   1.,   1.,   0.,\n",
              "          0.,   2.,   1.,   1.,   0.,   1.,   1.,   1.,   1.,   0.,   0.,\n",
              "          1.,   1.,   0.,   1.,   1.,   1.,   0.,   1.,   0.,   1.,   0.,\n",
              "          1.,   1.,   0.,   1.,   0.,   0.,   0.,   1.,   0.,   0.,   0.,\n",
              "          2.,   0.,   0.,   0.,   0.,   0.,   0.,   0.,   0.,   0.,   0.,\n",
              "          0.,   0.,   0.,   1.,   0.,   0.,   0.,   0.,   0.,   0.,   0.,\n",
              "          0.,   0.,   0.,   0.,   0.,   0.,   0.,   1.,   0.,   0.,   0.,\n",
              "          0.,   0.,   0.,   0.,   0.,   0.,   0.,   0.,   1.,   0.,   0.,\n",
              "          0.,   0.,   0.,   0.,   0.,   0.,   1.,   0.,   0.,   1.]),\n",
              " array([-9.31716939, -9.29582454, -9.2744797 , ..., 11.98498411,\n",
              "        12.00632895, 12.0276738 ]),\n",
              " <BarContainer object of 1000 artists>)"
            ]
          },
          "metadata": {},
          "execution_count": 15
        },
        {
          "output_type": "display_data",
          "data": {
            "text/plain": [
              "<Figure size 800x800 with 1 Axes>"
            ],
            "image/png": "[encoded data removed]"
          },
          "metadata": {}
        }
      ]
    },
    {
      "cell_type": "markdown",
      "source": [
        "## EM algorithm\n",
        "\n",
        "It is time to start coding up the EM algorithm from scratch. We will break this down into five stages:\n",
        "\n",
        "- Initialization\n",
        "- E-step\n",
        "- M-step\n",
        "- Stopping criterion\n",
        "- Algorithm\n",
        "\n",
        "For each of the first four stages, we will write functions that are related to that stage. All these functions will be eventually used in the code for the EM algorithm. This is a modular approach to writing the code. We have identified four blocks or stages. We can independently work on these four blocks and finally combine them. If something goes wrong, we can quickly localize the problem to one of these four blocks.\n"
      ],
      "metadata": {
        "id": "t1VFwTY0ArhB"
      }
    },
    {
      "cell_type": "markdown",
      "source": [
        "## Problem-5\n",
        "\n",
        "Write a function `init` that initializes the parameters of the GMM and returns `theta_0`, a NumPy array of shape $(3K, )$. The first $K$ elements of `theta_0` ($\\boldsymbol{\\theta}^{(0)}$) represents the means of the three mixtures, the next $K$ represent the variances and the last $K$ represent the mixture probabilities.\n",
        "\n",
        "The exact values to be used are as follows:\n",
        "\n",
        "- $\\mu_0 = 1, \\mu_1 = 2, \\mu_2 = 3$\n",
        "- $\\sigma_0^2 = \\sigma_1^2 = \\sigma_2^2 = 1$\n",
        "- $\\pi_0 = \\pi_1 = \\pi_2 = 1/3$\n",
        "\n",
        "Enter $||\\boldsymbol{\\theta}^{(0)}||$ as your answer correct to two decimal places. Keep this variable `theta_0` as it will be used in subsequent problems."
      ],
      "metadata": {
        "id": "YuhQSnp0BChl"
      }
    },
    {
      "cell_type": "code",
      "source": [
        "### Solution ###\n",
        "def init():\n",
        "  theta_0=np.array([1,2,3,1,1,1,1/3,1/3,1/3])\n",
        "  return theta_0\n",
        "print(init())\n",
        "print(f\"{np.linalg.norm(init()):.2f}\")"
      ],
      "metadata": {
        "id": "HKe2dspvIUgE",
        "colab": {
          "base_uri": "https://localhost:8080/"
        },
        "outputId": "404db6ce-dcb1-4a89-f795-eb40a3d83f18"
      },
      "execution_count": null,
      "outputs": [
        {
          "output_type": "stream",
          "name": "stdout",
          "text": [
            "[1.         2.         3.         1.         1.         1.\n",
            " 0.33333333 0.33333333 0.33333333]\n",
            "4.16\n"
          ]
        }
      ]
    },
    {
      "cell_type": "markdown",
      "source": [
        "## Problem-6\n",
        "\n",
        "Write a function `estep` that accepts `theta` and `X` as arguments. It should perform the E-step and return an array `lamb` of shape `(n, K)`. The element `lamb[i][k]` is equal to $\\lambda_k^{i}$. For the purposes of evaluation, run the function on `theta_0` and `X`. Call the returned value `lamb_1`.  Compute the sum of the zeroth column of the matrix `lamb_1` and enter that as your answer correct to two decimal places. Keep this variable `lamb_1` as it will be used in subsequent problems.\n",
        "\n",
        "\n",
        "**Aside**: We prefer the variable name `lamb` over `lambda` for a reason. Can you guess why?"
      ],
      "metadata": {
        "id": "EgsmXOKYJ76X"
      }
    },
    {
      "cell_type": "code",
      "source": [
        "### Solution ###\n",
        "def estep(theta, X):\n",
        "    n = X.shape[0]\n",
        "    K = theta.shape[0] // 3\n",
        "    means = theta[:K]\n",
        "    variances = theta[K:2*K]\n",
        "    weights = theta[2*K:]\n",
        "\n",
        "    lamb = np.zeros((n, K))\n",
        "\n",
        "    for i in range(n):\n",
        "        denominator = 0\n",
        "        for k in range(K):\n",
        "            # Calculate the probability density for the k-th mixture\n",
        "            pdf_k = (1 / np.sqrt(2 * np.pi * variances[k])) * np.exp(-(X[i] - means[k])**2 / (2 * variances[k]))\n",
        "            lamb[i][k] = weights[k] * pdf_k\n",
        "            denominator += lamb[i][k]\n",
        "\n",
        "        # Normalize the responsibilities\n",
        "        if denominator > 0:\n",
        "            lamb[i, :] /= denominator\n",
        "        else:\n",
        "            # Handle cases where denominator is zero (avoid division by zero)\n",
        "            lamb[i, :] = 1.0 / K # Assign equal responsibility\n",
        "\n",
        "    return lamb\n",
        "\n",
        "theta_0 = init()\n",
        "lamb_1 = estep(theta_0, X)\n",
        "print(f\"{np.sum(lamb_1[:, 0]):.2f}\")"
      ],
      "metadata": {
        "id": "kKH7zNZ6IJsb",
        "colab": {
          "base_uri": "https://localhost:8080/"
        },
        "outputId": "7605e74c-d265-43cd-eb73-fe6a0dbca19a"
      },
      "execution_count": null,
      "outputs": [
        {
          "output_type": "stream",
          "name": "stderr",
          "text": [
            "/tmp/ipython-input-20-3716950152.py:16: DeprecationWarning: Conversion of an array with ndim > 0 to a scalar is deprecated, and will error in future. Ensure you extract a single element from your array before performing this operation. (Deprecated NumPy 1.25.)\n",
            "  lamb[i][k] = weights[k] * pdf_k\n",
            "/tmp/ipython-input-20-3716950152.py:16: DeprecationWarning: Conversion of an array with ndim > 0 to a scalar is deprecated, and will error in future. Ensure you extract a single element from your array before performing this operation. (Deprecated NumPy 1.25.)\n",
            "  lamb[i][k] = weights[k] * pdf_k\n"
          ]
        },
        {
          "output_type": "stream",
          "name": "stdout",
          "text": [
            "68226.20\n"
          ]
        }
      ]
    },
    {
      "cell_type": "markdown",
      "source": [
        "## Problem-7\n",
        "\n",
        "Write a function `mstep` that accepts `lamb` and `X` as arguments. It should perform the M-step and return a NumPy array `theta`, the updated parameters, namely. We follow the same convention for storing the parameters as was done during the init step. For the purposes of evaluation, compute the value of the function for `lamb_1` and `X`. Call the returned value `theta_1` ($\\boldsymbol{\\theta}^{(1)}$). Enter $||\\boldsymbol{\\theta}^{(1)}||$  as your answer correct to two decimal places."
      ],
      "metadata": {
        "id": "Fqnf831nLAlP"
      }
    },
    {
      "cell_type": "code",
      "source": [
        "### Solution ###\n",
        "def mstep(lamb, X):\n",
        "    n, K = lamb.shape\n",
        "    means = np.zeros(K)\n",
        "    variances = np.zeros(K)\n",
        "    weights = np.zeros(K)\n",
        "\n",
        "    for k in range(K):\n",
        "        Nk = np.sum(lamb[:, k])\n",
        "        means[k] = np.sum(lamb[:, k] * X) / Nk\n",
        "        variances[k] = np.sum(lamb[:, k] * (X - means[k])**2) / Nk\n",
        "        weights[k] = Nk / n\n",
        "\n",
        "    theta = np.concatenate((means, variances, weights))\n",
        "    return theta\n",
        "\n",
        "theta_0 = init()\n",
        "lamb_1 = estep(theta_0, X)\n",
        "theta_1 = mstep(lamb_1, X)\n",
        "print(f\"{np.linalg.norm(theta_1):.2f}\")\n"
      ],
      "metadata": {
        "id": "k9FSc2QiITDs",
        "colab": {
          "base_uri": "https://localhost:8080/"
        },
        "outputId": "f073e266-e0ae-4bc5-8910-7c94ded30c7d"
      },
      "execution_count": null,
      "outputs": [
        {
          "output_type": "stream",
          "name": "stderr",
          "text": [
            "/tmp/ipython-input-20-3716950152.py:16: DeprecationWarning: Conversion of an array with ndim > 0 to a scalar is deprecated, and will error in future. Ensure you extract a single element from your array before performing this operation. (Deprecated NumPy 1.25.)\n",
            "  lamb[i][k] = weights[k] * pdf_k\n",
            "/tmp/ipython-input-20-3716950152.py:16: DeprecationWarning: Conversion of an array with ndim > 0 to a scalar is deprecated, and will error in future. Ensure you extract a single element from your array before performing this operation. (Deprecated NumPy 1.25.)\n",
            "  lamb[i][k] = weights[k] * pdf_k\n",
            "/tmp/ipython-input-20-3716950152.py:16: DeprecationWarning: Conversion of an array with ndim > 0 to a scalar is deprecated, and will error in future. Ensure you extract a single element from your array before performing this operation. (Deprecated NumPy 1.25.)\n",
            "  lamb[i][k] = weights[k] * pdf_k\n"
          ]
        },
        {
          "output_type": "stream",
          "name": "stdout",
          "text": [
            "8.69\n"
          ]
        },
        {
          "output_type": "execute_result",
          "data": {
            "text/plain": [
              "array([-1.84401327,  1.0795422 ,  4.93145319,  4.99571036,  2.50234357,\n",
              "        3.8634084 ,  0.68226196,  0.13029543,  0.1874426 ])"
            ]
          },
          "metadata": {},
          "execution_count": 26
        }
      ]
    },
    {
      "cell_type": "code",
      "source": [
        "theta_0.shape"
      ],
      "metadata": {
        "colab": {
          "base_uri": "https://localhost:8080/"
        },
        "id": "g_CyE3muycqT",
        "outputId": "d3ca6aee-d134-4879-dcd1-7c03033b3d0d"
      },
      "execution_count": null,
      "outputs": [
        {
          "output_type": "execute_result",
          "data": {
            "text/plain": [
              "(9, 1)"
            ]
          },
          "metadata": {},
          "execution_count": 31
        }
      ]
    },
    {
      "cell_type": "markdown",
      "source": [
        "## Problem-8\n",
        "\n",
        "Given two vectors $\\boldsymbol{\\theta}^{(t)}$ and $\\boldsymbol{\\theta}^{(t + 1)}$, write a function `distance` that accepts these two vectors as arguments and returns the distance between them:\n",
        "\n",
        "$$\n",
        "||\\boldsymbol{\\theta}^{(t + 1)} - \\boldsymbol{\\theta}^{(t)}||\n",
        "$$\n",
        "\n",
        "For the purposes of evaluation, compute the distance between $\\boldsymbol{\\theta}^{(0)}$ and $\\boldsymbol{\\theta}^{(1)}$ and report your answer correct to two decimal places."
      ],
      "metadata": {
        "id": "0SLzBm4fLRSK"
      }
    },
    {
      "cell_type": "code",
      "source": [
        "### Solution ###\n",
        "def distance(theta_t, theta_t_1):\n",
        "  return np.linalg.norm(theta_t_1-theta_t)\n",
        "print(distance(theta_1,theta_0))"
      ],
      "metadata": {
        "id": "f-dyb9_4IVwI",
        "colab": {
          "base_uri": "https://localhost:8080/"
        },
        "outputId": "a3274df1-e66a-433d-e88e-780423132d2a"
      },
      "execution_count": null,
      "outputs": [
        {
          "output_type": "stream",
          "name": "stdout",
          "text": [
            "22.480160553726957\n"
          ]
        }
      ]
    },
    {
      "cell_type": "markdown",
      "source": [
        "## Problem-9\n",
        "\n",
        "Perform the EM algorithm until convergence. The stopping-criterion is that the distance between the two parameter-vectors should be less than $0.01$.\n",
        "\n",
        "$$\n",
        "||\\boldsymbol{\\theta}^{(t + 1)} - \\boldsymbol{\\theta}^{(t)}|| < 0.01\n",
        "$$\n",
        "\n",
        "\n",
        "Initialize the parameters to $\\boldsymbol{\\theta}^{(0)}$. Find the number of iterations it takes for the algorithm to converge. Enter this as your answer.\n",
        "\n",
        "This is going to take some time. Hold tight!"
      ],
      "metadata": {
        "id": "FFQwFcH6MELs"
      }
    },
    {
      "cell_type": "code",
      "source": [
        "### Solution ###\n",
        "theta_0=init()\n",
        "theta_1=mstep(estep(theta_0,X),X)\n",
        "iterations=1\n",
        "while distance(theta_0,theta_1)>0.01:\n",
        "  theta_0=theta_1\n",
        "  theta_1=mstep(estep(theta_0,X),X)\n",
        "  iterations+=1\n",
        "  if (iterations%10==0):\n",
        "    print(f\"Iter: {iterations}, Distance: {distance(theta_0,theta_1)}\")\n",
        "print(f\"{iterations}\")"
      ],
      "metadata": {
        "id": "lqRgxVx2IXMp",
        "colab": {
          "base_uri": "https://localhost:8080/"
        },
        "outputId": "e1f6655e-dd46-48c0-b65c-00e195c62c55"
      },
      "execution_count": null,
      "outputs": [
        {
          "output_type": "stream",
          "name": "stdout",
          "text": [
            "Iter: 10, Distance: 0.05655269701476861\n",
            "Iter: 20, Distance: 0.09883940971630462\n",
            "Iter: 30, Distance: 0.11772407083704675\n",
            "Iter: 40, Distance: 0.11993141162395222\n",
            "Iter: 50, Distance: 0.08013911907658583\n",
            "Iter: 60, Distance: 0.034113054971596994\n",
            "Iter: 70, Distance: 0.01223613370529517\n",
            "72\n"
          ]
        }
      ]
    },
    {
      "cell_type": "markdown",
      "source": [
        "## Problem-10\n",
        "\n",
        "Let us now verify the correctness of our algorithm. We know the true parameters here:\n",
        "\n",
        "$$\n",
        "\\boldsymbol{\\theta} = \\begin{bmatrix}\n",
        "-4\\\\\n",
        "0\\\\\n",
        "5\\\\\n",
        "2\\\\\n",
        "1\\\\\n",
        "3\\\\\n",
        "0.3\\\\\n",
        "0.5\\\\\n",
        "0.2\n",
        "\\end{bmatrix}\n",
        "$$\n",
        "\n",
        "Let $\\boldsymbol{\\theta}^{*}$ be the parameter at convergence. Compute the distance between this vector and the true parameter vector. Enter your answer correct to two decimal places. The smaller the distance, better our estimate."
      ],
      "metadata": {
        "id": "zB33Rp_4awWp"
      }
    },
    {
      "cell_type": "code",
      "source": [
        "### Solution ###\n",
        "known=[-4,0,5,2,1,3,0.3,0.5,0.2]\n",
        "print(distance(theta_1,known))\n",
        "print(theta_1)"
      ],
      "metadata": {
        "id": "WdfWCxQVbvBy",
        "colab": {
          "base_uri": "https://localhost:8080/"
        },
        "outputId": "b3cd589d-ed28-4d26-bfb3-f2a8ccd56fdf"
      },
      "execution_count": null,
      "outputs": [
        {
          "output_type": "stream",
          "name": "stdout",
          "text": [
            "0.10196573248897503\n",
            "[-3.94585325  0.02014348  5.00488842  2.06801305  0.96390146  3.0322972\n",
            "  0.30548887  0.49423046  0.20028068]\n"
          ]
        }
      ]
    },
    {
      "cell_type": "markdown",
      "source": [
        "## Problem-11\n",
        "\n",
        "We shall do a hard clustering of the data-points. Use the final `lamb` value obtained and cluster the points using:\n",
        "\n",
        "$$\n",
        "z_i = \\operatorname*{argmax} \\limits_{k} \\lambda_k^{i}\n",
        "$$\n",
        "\n",
        "Let $0$, $1$ and $2$ correspond to the colors red, blue and green respectively. Plot three colored histograms on the same figure, one for each cluster."
      ],
      "metadata": {
        "id": "oD5eJxOBMfN-"
      }
    },
    {
      "cell_type": "code",
      "source": [
        "### Solution ###\n",
        "lamb=estep(theta_1,X)\n",
        "cluster_indices=np.argmax(lamb,axis=1)\n",
        "print(cluster_indices)\n",
        "plt.hist(X[cluster_indices==0],bins=1000,color='red',alpha=0.5)\n",
        "plt.hist(X[cluster_indices==1],bins=1000,color='blue',alpha=0.5)\n",
        "plt.hist(X[cluster_indices==2],bins=1000,color='green',alpha=0.5)"
      ],
      "metadata": {
        "id": "NwRMqRTQgWbg",
        "colab": {
          "base_uri": "https://localhost:8080/",
          "height": 1000
        },
        "outputId": "3ead2130-39f6-4acb-d33c-5406e278b654"
      },
      "execution_count": null,
      "outputs": [
        {
          "output_type": "stream",
          "name": "stdout",
          "text": [
            "[1 0 0 ... 2 1 1]\n"
          ]
        },
        {
          "output_type": "execute_result",
          "data": {
            "text/plain": [
              "(array([23., 27., 38., 22., 27., 27., 35., 19., 22., 28., 26., 28., 17.,\n",
              "        35., 21., 23., 26., 20., 20., 18., 20., 21., 20., 29., 23., 24.,\n",
              "        16., 22., 23., 28., 22., 34., 24., 24., 25., 30., 27., 26., 14.,\n",
              "        28., 20., 17., 20., 23., 29., 22., 24., 24., 28., 21., 25., 22.,\n",
              "        15., 21., 34., 22., 17., 27., 27., 16., 21., 33., 23., 23., 14.,\n",
              "        18., 25., 23., 18., 26., 25., 26., 20., 30., 20., 30., 25., 27.,\n",
              "        17., 25., 22., 22., 38., 29., 20., 31., 33., 33., 23., 20., 32.,\n",
              "        30., 33., 30., 35., 40., 29., 21., 24., 28., 24., 27., 19., 30.,\n",
              "        31., 23., 26., 29., 37., 32., 30., 29., 35., 25., 23., 29., 25.,\n",
              "        23., 29., 26., 36., 29., 36., 26., 37., 26., 31., 37., 40., 36.,\n",
              "        30., 26., 43., 29., 35., 28., 35., 41., 39., 31., 31., 24., 22.,\n",
              "        28., 39., 39., 35., 34., 39., 46., 42., 39., 36., 35., 31., 40.,\n",
              "        32., 43., 25., 37., 34., 27., 41., 35., 37., 30., 37., 29., 28.,\n",
              "        37., 38., 38., 61., 50., 31., 37., 44., 26., 36., 37., 45., 36.,\n",
              "        36., 49., 41., 28., 30., 37., 39., 37., 37., 30., 43., 46., 43.,\n",
              "        41., 46., 40., 40., 44., 33., 44., 40., 50., 46., 33., 32., 36.,\n",
              "        31., 43., 43., 36., 41., 48., 44., 33., 34., 38., 42., 51., 39.,\n",
              "        42., 35., 52., 43., 40., 39., 41., 32., 43., 44., 41., 42., 51.,\n",
              "        44., 55., 38., 46., 39., 49., 37., 35., 37., 30., 51., 50., 50.,\n",
              "        39., 46., 42., 51., 41., 40., 47., 49., 54., 50., 43., 43., 43.,\n",
              "        34., 42., 50., 47., 40., 41., 42., 38., 52., 39., 58., 48., 44.,\n",
              "        46., 40., 46., 45., 50., 45., 44., 43., 42., 49., 47., 48., 42.,\n",
              "        37., 43., 50., 40., 36., 37., 48., 36., 46., 40., 43., 44., 43.,\n",
              "        48., 59., 33., 43., 42., 36., 61., 45., 36., 56., 45., 32., 41.,\n",
              "        41., 33., 48., 52., 43., 52., 32., 36., 47., 38., 56., 50., 46.,\n",
              "        48., 41., 45., 67., 51., 50., 45., 46., 35., 43., 45., 45., 42.,\n",
              "        42., 62., 42., 44., 39., 53., 41., 50., 41., 56., 49., 36., 32.,\n",
              "        46., 48., 41., 49., 36., 35., 44., 43., 36., 35., 40., 33., 46.,\n",
              "        40., 32., 44., 26., 36., 32., 39., 40., 36., 53., 34., 46., 32.,\n",
              "        42., 42., 39., 39., 37., 43., 28., 30., 36., 45., 28., 34., 32.,\n",
              "        32., 30., 38., 42., 28., 43., 32., 39., 40., 30., 34., 27., 38.,\n",
              "        42., 34., 34., 31., 38., 33., 31., 27., 30., 45., 41., 44., 40.,\n",
              "        27., 38., 31., 27., 28., 39., 38., 28., 34., 32., 33., 22., 28.,\n",
              "        29., 28., 25., 37., 49., 27., 36., 27., 24., 19., 32., 27., 31.,\n",
              "        34., 22., 42., 21., 28., 21., 35., 29., 17., 22., 26., 24., 28.,\n",
              "        33., 22., 36., 26., 31., 27., 26., 30., 28., 23., 31., 24., 34.,\n",
              "        23., 28., 25., 28., 26., 29., 25., 26., 18., 26., 21., 24., 20.,\n",
              "        26., 31., 21., 18., 22., 26., 27., 27., 28., 33., 17., 18., 22.,\n",
              "        20., 21., 16., 20., 21., 15., 20., 22., 24., 18., 21., 18., 23.,\n",
              "        16., 24., 11., 15., 16., 19., 15., 27., 18., 18., 25., 23., 13.,\n",
              "        15., 15., 20., 20., 19., 25., 18., 14., 23., 16., 12.,  8., 12.,\n",
              "        12., 15., 22., 16., 12., 11., 19., 18., 16., 13., 14., 18.,  9.,\n",
              "        15., 11., 12., 13., 15., 13., 13., 13., 11., 19., 13., 13., 14.,\n",
              "        13., 10.,  9.,  9., 12., 21., 12.,  8., 15., 10.,  8.,  7., 11.,\n",
              "        11., 13., 20., 11., 13.,  5., 11., 11., 13., 11., 10., 11., 12.,\n",
              "        11.,  7., 12.,  9., 10.,  6.,  6., 15., 14., 11.,  8.,  9.,  6.,\n",
              "         9.,  8.,  8.,  7.,  8.,  2.,  9., 14.,  6., 10.,  7., 12.,  9.,\n",
              "         6.,  4.,  5.,  4.,  6., 18.,  6.,  7.,  6.,  3.,  8.,  5.,  4.,\n",
              "        10.,  4.,  9.,  6.,  6., 11.,  8., 11.,  4., 11.,  6.,  6.,  5.,\n",
              "         3.,  8.,  5.,  7.,  8.,  5.,  2.,  6.,  7., 10.,  6.,  5.,  7.,\n",
              "         1., 12.,  5.,  3.,  1.,  6.,  1.,  3.,  7.,  6.,  9.,  1.,  2.,\n",
              "         6.,  2.,  7.,  2.,  5.,  2.,  7.,  8.,  2.,  3.,  2.,  3.,  5.,\n",
              "         6.,  4.,  2.,  4.,  3.,  3.,  5.,  7.,  0.,  2.,  3.,  2.,  1.,\n",
              "         3.,  4.,  1.,  7.,  5.,  6.,  1.,  3.,  5.,  3.,  2.,  5.,  0.,\n",
              "         4.,  3.,  0.,  3.,  2.,  2.,  3.,  3.,  1.,  3.,  3.,  4.,  4.,\n",
              "         3.,  2.,  1.,  4.,  1.,  3.,  0.,  3.,  2.,  1.,  1.,  2.,  0.,\n",
              "         2.,  5.,  1.,  0.,  1.,  1.,  1.,  1.,  2.,  2.,  5.,  1.,  0.,\n",
              "         2.,  1.,  0.,  0.,  3.,  2.,  3.,  1.,  0.,  1.,  1.,  2.,  3.,\n",
              "         3.,  2.,  1.,  2.,  1.,  3.,  0.,  0.,  2.,  1.,  2.,  0.,  1.,\n",
              "         1.,  2.,  1.,  2.,  1.,  2.,  1.,  0.,  0.,  1.,  1.,  2.,  2.,\n",
              "         1.,  2.,  3.,  1.,  0.,  0.,  0.,  1.,  0.,  0.,  1.,  1.,  0.,\n",
              "         2.,  1.,  1.,  0.,  1.,  0.,  0.,  1.,  1.,  0.,  1.,  1.,  0.,\n",
              "         0.,  0.,  0.,  0.,  0.,  0.,  2.,  0.,  1.,  0.,  0.,  1.,  0.,\n",
              "         0.,  1.,  0.,  0.,  1.,  0.,  1.,  0.,  1.,  0.,  0.,  0.,  0.,\n",
              "         0.,  0.,  0.,  1.,  0.,  1.,  0.,  0.,  1.,  0.,  0.,  0.,  1.,\n",
              "         1.,  0.,  0.,  0.,  1.,  0.,  0.,  0.,  0.,  1.,  0.,  0.,  0.,\n",
              "         1.,  0.,  1.,  0.,  0.,  0.,  0.,  1.,  0.,  0.,  0.,  0.,  0.,\n",
              "         0.,  0.,  1.,  0.,  0.,  0.,  0.,  0.,  0.,  0.,  1.,  0.,  1.,\n",
              "         0.,  0.,  0.,  0.,  0.,  0.,  0.,  0.,  0.,  0.,  0.,  0.,  0.,\n",
              "         0.,  0.,  0.,  0.,  0.,  0.,  0.,  0.,  0.,  0.,  0.,  0.,  0.,\n",
              "         0.,  0.,  0.,  1.,  0.,  0.,  0.,  0.,  0.,  0.,  0.,  0.,  0.,\n",
              "         0.,  0.,  0.,  0.,  0.,  0.,  0.,  0.,  0.,  0.,  0.,  0.,  0.,\n",
              "         0.,  0.,  0.,  0.,  0.,  0.,  0.,  0.,  0.,  1.,  0.,  0.,  0.,\n",
              "         0.,  0.,  0.,  0.,  0.,  0.,  0.,  0.,  0.,  0.,  0.,  0.,  0.,\n",
              "         0.,  0.,  0.,  0.,  0.,  0.,  0.,  0.,  0.,  0.,  0.,  1.,  0.,\n",
              "         0.,  0.,  0.,  0.,  0.,  0.,  0.,  0.,  0.,  0.,  0.,  0.,  0.,\n",
              "         0.,  0.,  0.,  0.,  1.,  0.,  0.,  0.,  0.,  0.,  0.,  1.]),\n",
              " array([ 2.2960849 ,  2.30581649,  2.31554807, ..., 12.00821062,\n",
              "        12.01794221, 12.0276738 ]),\n",
              " <BarContainer object of 1000 artists>)"
            ]
          },
          "metadata": {},
          "execution_count": 38
        },
        {
          "output_type": "display_data",
          "data": {
            "text/plain": [
              "<Figure size 800x800 with 1 Axes>"
            ],
            "image/png": "[encoded data removed]"
          },
          "metadata": {}
        }
      ]
    }
  ]
}